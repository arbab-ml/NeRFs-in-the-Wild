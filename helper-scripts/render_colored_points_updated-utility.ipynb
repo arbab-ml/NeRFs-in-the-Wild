{
 "cells": [
  {
   "cell_type": "code",
   "execution_count": 1,
   "metadata": {},
   "outputs": [
    {
     "name": "stdout",
     "output_type": "stream",
     "text": [
      "\n",
      "Modules based on Lua: Version 8.7.30  2023-07-21 17:13 -05:00\n",
      "    by Robert McLay mclay@tacc.utexas.edu\n",
      "\n",
      "module [options] sub-command [args ...]\n",
      "\n",
      "Help sub-commands:\n",
      "------------------\n",
      "  help                              prints this message\n",
      "  help                module [...]  print help message from module(s)\n",
      "\n",
      "Loading/Unloading sub-commands:\n",
      "-------------------------------\n",
      "  load | add          module [...]  load module(s)\n",
      "  try-load | try-add  module [...]  Add module(s), do not complain if not\n",
      "                                    found\n",
      "  del | unload        module [...]  Remove module(s), do not complain if not\n",
      "                                    found\n",
      "  swap | sw | switch  m1 m2         unload m1 and load m2\n",
      "  purge                             unload all modules\n",
      "  refresh                           reload aliases from current list of\n",
      "                                    modules.\n",
      "  update                            reload all currently loaded modules.\n",
      "\n",
      "Listing / Searching sub-commands:\n",
      "---------------------------------\n",
      "  list                              List loaded modules\n",
      "  list                s1 s2 ...     List loaded modules that match the\n",
      "                                    pattern\n",
      "  avail | av                        List available modules\n",
      "  avail | av          string        List available modules that contain\n",
      "                                    \"string\".\n",
      "  category | cat                    List all categories\n",
      "  category | cat      s1 s2 ...     List all categories that match the\n",
      "                                    pattern and display their modules\n",
      "  overview | ov                     List all available modules by short\n",
      "                                    names with number of versions\n",
      "  overview | ov       string        List available modules by short names\n",
      "                                    with number of versions that contain\n",
      "                                    \"string\"\n",
      "  spider                            List all possible modules\n",
      "  spider              module        List all possible version of that module\n",
      "                                    file\n",
      "  spider              string        List all module that contain the\n",
      "                                    \"string\".\n",
      "  spider              name/version  Detailed information about that version\n",
      "                                    of the module.\n",
      "  whatis              module        Print whatis information about module\n",
      "  keyword | key       string        Search all name and whatis that contain\n",
      "                                    \"string\".\n",
      "\n",
      "Searching with Lmod:\n",
      "--------------------\n",
      "  All searching (spider, list, avail, keyword) support regular expressions:\n",
      "  \n",
      "\n",
      "  -r spider           '^p'          Finds all the modules that start with\n",
      "                                    `p' or `P'\n",
      "  -r spider           mpi           Finds all modules that have \"mpi\" in\n",
      "                                    their name.\n",
      "  -r spider           'mpi$         Finds all modules that end with \"mpi\" in\n",
      "                                    their name.\n",
      "\n",
      "Handling a collection of modules:\n",
      "--------------------------------\n",
      "  save | s                          Save the current list of modules to a\n",
      "                                    user defined \"default\" collection.\n",
      "  save | s            name          Save the current list of modules to\n",
      "                                    \"name\" collection.\n",
      "  reset                             The same as \"restore system\"\n",
      "  restore | r                       Restore modules from the user's\n",
      "                                    \"default\" or system default.\n",
      "  restore | r         name          Restore modules from \"name\" collection.\n",
      "  restore             system        Restore module state to system defaults.\n",
      "  savelist                          List of saved collections.\n",
      "  describe | mcc      name          Describe the contents of a module\n",
      "                                    collection.\n",
      "  disable             name          Disable (i.e. remove) a collection.\n",
      "\n",
      "Deprecated commands:\n",
      "--------------------\n",
      "  getdefault          [name]        load name collection of modules or\n",
      "                                    user's \"default\" if no name given.\n",
      "                                    ===> Use \"restore\" instead <====\n",
      "  setdefault          [name]        Save current list of modules to name if\n",
      "                                    given, otherwise save as the default\n",
      "                                    list for you the user.\n",
      "                                    ===> Use \"save\" instead. <====\n",
      "\n",
      "Miscellaneous sub-commands:\n",
      "---------------------------\n",
      "  is-loaded           modulefile    return a true status if module is loaded\n",
      "  is-avail            modulefile    return a true status if module can be\n",
      "                                    loaded\n",
      "  show                modulefile    show the commands in the module file.\n",
      "  use [-a]            path          Prepend or Append path to MODULEPATH.\n",
      "  unuse               path          remove path from MODULEPATH.\n",
      "  tablelist                         output list of active modules as a lua\n",
      "                                    table.\n",
      "\n",
      "Important Environment Variables:\n",
      "--------------------------------\n",
      "  LMOD_COLORIZE                     If defined to be \"YES\" then Lmod prints\n",
      "                                    properties and warning in color.\n",
      "\n",
      "    --------------------------------------------------------------------------\n",
      "\n",
      "Lmod Web Sites\n",
      "\n",
      "  Documentation:    https://lmod.readthedocs.org\n",
      "  GitHub:           https://github.com/TACC/Lmod\n",
      "  SourceForge:      https://lmod.sf.net\n",
      "  TACC Homepage:    https://www.tacc.utexas.edu/research-development/tacc-projects/lmod\n",
      "\n",
      "  To report a bug please read \u001b[1;31mhttps://lmod.readthedocs.io/en/latest/075_bug_reporting.html\u001b[0m\n",
      "    --------------------------------------------------------------------------\n",
      "\n",
      "\n"
     ]
    }
   ],
   "source": [
    "# Work with tanksandtemples-eval-env2\n",
    "!module laod cuda"
   ]
  },
  {
   "cell_type": "code",
   "execution_count": 11,
   "metadata": {},
   "outputs": [
    {
     "name": "stdout",
     "output_type": "stream",
     "text": [
      "geometry::PointCloud with 1001500 points.\n"
     ]
    },
    {
     "data": {
      "text/plain": [
       "True"
      ]
     },
     "execution_count": 11,
     "metadata": {},
     "output_type": "execute_result"
    }
   ],
   "source": [
    "import numpy as np\n",
    "import open3d as o3d\n",
    "\n",
    "alignment = \"/work/mech-ai/arbab/tanksandtemples-eval/TanksAndTemples/python_toolbox/evaluation/data/CCL-scannned-data-single-img-50-qual-90-processed/CCL-scannned-data-single-img-50-qual-90-processed_trans.txt\"\n",
    "cropfile = \"/work/mech-ai/arbab/tanksandtemples-eval/TanksAndTemples/python_toolbox/evaluation/data/CCL-scannned-data-single-img-50-qual-90-processed/CCL-scannned-data-single-img-50-qual-90-processed.json\"\n",
    "\n",
    "crop_volume = o3d.visualization.read_selection_polygon_volume(cropfile)\n",
    "trans = np.loadtxt(alignment)\n",
    "\n",
    "\n",
    "pcd = o3d.io.read_point_cloud(\"single-view-detail/point_cloud.ply\")\n",
    "print (pcd)\n",
    "pcd.transform(trans)\n",
    "pcd_crop = crop_volume.crop_point_cloud(pcd)\n",
    "#save this pcd_crop\n",
    "o3d.io.write_point_cloud(\"single-view-detail/point_cloud_crop.ply\", pcd_crop)"
   ]
  },
  {
   "cell_type": "code",
   "execution_count": 3,
   "metadata": {},
   "outputs": [
    {
     "data": {
      "text/plain": [
       "geometry::PointCloud with 0 points."
      ]
     },
     "execution_count": 3,
     "metadata": {},
     "output_type": "execute_result"
    }
   ],
   "source": [
    "s"
   ]
  },
  {
   "cell_type": "code",
   "execution_count": null,
   "metadata": {},
   "outputs": [],
   "source": []
  }
 ],
 "metadata": {
  "kernelspec": {
   "display_name": "nerfstudio10",
   "language": "python",
   "name": "python3"
  },
  "language_info": {
   "codemirror_mode": {
    "name": "ipython",
    "version": 3
   },
   "file_extension": ".py",
   "mimetype": "text/x-python",
   "name": "python",
   "nbconvert_exporter": "python",
   "pygments_lexer": "ipython3",
   "version": "3.6.13"
  }
 },
 "nbformat": 4,
 "nbformat_minor": 2
}
